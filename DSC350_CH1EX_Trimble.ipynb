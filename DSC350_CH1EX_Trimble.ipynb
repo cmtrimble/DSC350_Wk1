{
 "cells": [
  {
   "cell_type": "markdown",
   "metadata": {},
   "source": [
    "# Coding exercises\n",
    "Exercises 1-3 are thought exercises that don't require coding. If you need a Python crash-course/refresher, work through the [`python_101.ipynb`](./python_101.ipynb) notebook in chapter 1.\n",
    "\n",
    "## Exercise 4: Generate the data by running this cell\n",
    "This will give you a list of numbers to work with in the remaining exercises.\n",
    "\n",
    "### Code Attribution\n",
    "Title: <DSC360 Chapter 1 Exercises>\n",
    "Author: <Caleb Trimble>\n",
    "Date: <01 September 2024>\n",
    "Description: <Statistical calculations in Python with and without using Python modules and libraries.>"
   ]
  },
  {
   "cell_type": "code",
   "execution_count": 19,
   "metadata": {
    "jupyter": {
     "is_executing": true
    }
   },
   "outputs": [
    {
     "name": "stdout",
     "output_type": "stream",
     "text": [
      "[844000.0, 758000.0, 421000.0, 259000.0, 511000.0, 405000.0, 784000.0, 303000.0, 477000.0, 583000.0, 908000.0, 505000.0, 282000.0, 756000.0, 618000.0, 251000.0, 910000.0, 983000.0, 810000.0, 902000.0, 310000.0, 730000.0, 899000.0, 684000.0, 472000.0, 101000.0, 434000.0, 611000.0, 913000.0, 967000.0, 477000.0, 865000.0, 260000.0, 805000.0, 549000.0, 14000.0, 720000.0, 399000.0, 825000.0, 668000.0, 1000.0, 494000.0, 868000.0, 244000.0, 325000.0, 870000.0, 191000.0, 568000.0, 239000.0, 968000.0, 803000.0, 448000.0, 80000.0, 320000.0, 508000.0, 933000.0, 109000.0, 551000.0, 707000.0, 547000.0, 814000.0, 540000.0, 964000.0, 603000.0, 588000.0, 445000.0, 596000.0, 385000.0, 576000.0, 290000.0, 189000.0, 187000.0, 613000.0, 657000.0, 477000.0, 90000.0, 758000.0, 877000.0, 923000.0, 842000.0, 898000.0, 923000.0, 541000.0, 391000.0, 705000.0, 276000.0, 812000.0, 849000.0, 895000.0, 590000.0, 950000.0, 580000.0, 451000.0, 660000.0, 996000.0, 917000.0, 793000.0, 82000.0, 613000.0, 486000.0]\n"
     ]
    }
   ],
   "source": [
    "import math\n",
    "import random\n",
    "import statistics\n",
    "\n",
    "random.seed(0)\n",
    "salaries = [round(random.random()*1000000, -3) for _ in range(100)]\n",
    "print(salaries)\n"
   ]
  },
  {
   "cell_type": "markdown",
   "metadata": {},
   "source": [
    "## Exercise 5: Calculating statistics and verifying\n",
    "### mean"
   ]
  },
  {
   "cell_type": "code",
   "execution_count": 24,
   "metadata": {
    "jupyter": {
     "is_executing": true
    }
   },
   "outputs": [
    {
     "name": "stdout",
     "output_type": "stream",
     "text": [
      "The mean salary is: $ 585690.00\n",
      "\n",
      "The mean salary stat is: $ 585690.00\n"
     ]
    }
   ],
   "source": [
    "# Create a variable called \"total_sum\" to call back to. Then calculate the sum of the list we generated named \"salaries\"\n",
    "total_sum = sum(salaries)\n",
    "\n",
    "# Count the number of entries in the \"salaries\" list.\n",
    "# len = length (in this case calculating the \"length\" of the list)\n",
    "count = len(salaries)\n",
    "\n",
    "# Create the variable \"mean_salary\" and call back on the previously created variables to calculate the mean.\n",
    "mean_salary = total_sum / count\n",
    "\n",
    "print(f\"The mean salary is: ${mean_salary: .2f}\") # \".2f\" defines the number of spaces past the decimal for the result.\n",
    "print() # Print a blank line for cleaner output.\n",
    "# Calculate the mean salary using the statistics module. \n",
    "# \"statistics\" calls on the module and \".mean\" calls on the function within the module.\n",
    "mean_salary_stats = statistics.mean(salaries)\n",
    "print(f\"The mean salary stat is: ${mean_salary_stats: .2f}\")\n"
   ]
  },
  {
   "cell_type": "markdown",
   "metadata": {},
   "source": [
    "### median"
   ]
  },
  {
   "cell_type": "code",
   "execution_count": 22,
   "metadata": {
    "ExecuteTime": {
     "end_time": "2024-08-31T02:41:47.670991Z",
     "start_time": "2024-08-31T02:41:47.666815Z"
    }
   },
   "outputs": [
    {
     "name": "stdout",
     "output_type": "stream",
     "text": [
      "The median salary is: $590000.00\n",
      "\n",
      "The median salary using statistic module is: $589000.00\n"
     ]
    }
   ],
   "source": [
    "# Sort list from smallest to largest.\n",
    "salaries.sort()\n",
    "# Define n (sample size) by counting the number of entries in the salaries list.\n",
    "n = len(salaries)\n",
    "# \"//\" is used for floor division. In this instance, \"n//2\" is used to find the middle element within the list.\n",
    "median_salary = salaries[n//2] \n",
    "print(f\"The median salary is: ${median_salary:.2f}\") \n",
    "print()\n",
    "median_salary_stats = statistics.median(salaries)\n",
    "print(f\"The median salary using statistic module is: ${median_salary_stats:.2f}\")\n"
   ]
  },
  {
   "cell_type": "markdown",
   "metadata": {},
   "source": [
    "### mode"
   ]
  },
  {
   "cell_type": "code",
   "execution_count": 26,
   "metadata": {
    "ExecuteTime": {
     "end_time": "2024-08-31T17:45:50.363939Z",
     "start_time": "2024-08-31T17:45:50.358921Z"
    }
   },
   "outputs": [
    {
     "name": "stdout",
     "output_type": "stream",
     "text": [
      "The mode of salary is: $ 477000.00\n",
      "\n",
      "The mode of salary is: $477000.00\n"
     ]
    }
   ],
   "source": [
    "# Create a frequency dictionary to store the frequency of each number within our dataset. \n",
    "frequency = {}\n",
    "for salary in salaries:\n",
    "    if salary in frequency: \n",
    "        frequency[salary] += 1 # If the salary is already in the dictionary it will add an iteration to the count.\n",
    "    else:\n",
    "        frequency[salary] = 1 # If the salary does not have an iteration in the dictionary, this will add 1 to the count.\n",
    "max_count = max(frequency.values()) ## Searches the dictionary for the highest count.\n",
    "# Creates a list of keys, where \"key\" represent the salary and \"value\" represents the number of iterations.\n",
    "# \"if value == max_count\" checks against the max_count to find the highest frequency.\n",
    "# This function was adapted from code using Microsoft Copilot.\n",
    "modes = [key for key, value in frequency.items() if value == max_count] \n",
    "# Counts the number of modes. If the mode is not equal to one, it returns the modes. \n",
    "if len(modes) == 1:\n",
    "    print(f\"The mode of salary is: ${modes[0]: .2f}\")\n",
    "else:  # If there is only one mode, it returns that number.\n",
    "    print(f\"The mode salaries are: {', '.join(f'${mode: .2f}' for mode in modes)}\") \n",
    "print()\n",
    "modes_stats = statistics.mode(salaries)\n",
    "print(f\"The mode of salary is: ${modes_stats:.2f}\")\n"
   ]
  },
  {
   "cell_type": "markdown",
   "metadata": {},
   "source": [
    "### sample variance\n",
    "Remember to use Bessel's correction."
   ]
  },
  {
   "cell_type": "code",
   "execution_count": 8,
   "metadata": {
    "ExecuteTime": {
     "end_time": "2024-08-31T18:53:51.696125Z",
     "start_time": "2024-08-31T18:53:51.691024Z"
    }
   },
   "outputs": [
    {
     "name": "stdout",
     "output_type": "stream",
     "text": [
      "The sample variance is:  70664054444.44\n",
      "\n",
      "The sample variance is: 70664054444.44\n",
      "\n"
     ]
    }
   ],
   "source": [
    "# Defines the function (sample_variance). \n",
    "def sample_variance(salaries):\n",
    "    n = len(salaries)\n",
    "    mean = sum(salaries) / n\n",
    "# variance = \"**2\" raises the calculation to the 2nd power. \n",
    "# \"for x in salaries\" loops through each salary in the list.\n",
    "# \"sum\" adds up all of the squared differences. (n-1) applies Bessel's correction to the variance.\n",
    "    variance = sum((x - mean)**2 for x in salaries) / (n-1)\n",
    "    return variance\n",
    "print(f\"The sample variance is: {sample_variance(salaries): .2f}\")\n",
    "print()\n",
    "variance_stats = statistics.variance(salaries)\n",
    "print(f\"The sample variance is: {variance_stats:.2f}\")\n",
    "print()\n"
   ]
  },
  {
   "cell_type": "markdown",
   "metadata": {},
   "source": [
    "### sample standard deviation\n",
    "Remember to use Bessel's correction."
   ]
  },
  {
   "cell_type": "code",
   "execution_count": 22,
   "metadata": {
    "ExecuteTime": {
     "end_time": "2024-08-31T19:21:12.898167Z",
     "start_time": "2024-08-31T19:21:12.893128Z"
    }
   },
   "outputs": [
    {
     "name": "stdout",
     "output_type": "stream",
     "text": [
      "The sample standard deviation is: 265827.11\n",
      "\n",
      "The sample standard deviation is: 265827.11\n"
     ]
    }
   ],
   "source": [
    "import math\n",
    "def sample_standard_deviation(salaries):\n",
    "    n = len(salaries)\n",
    "    mean = sum(salaries) / n\n",
    "    variance = sum((x - mean) ** 2 for x in salaries) / (n - 1)\n",
    "# math.sqrt calls on the sqrt function of the math module to find the square root of the variance.\n",
    "    standard_deviation = math.sqrt(variance)\n",
    "    return standard_deviation\n",
    "# Executes sample_standard_deviation for salaries, and creates variable for future reference.\n",
    "std_dev = sample_standard_deviation(salaries)\n",
    "print(f\"The sample standard deviation is: {std_dev:.2f}\")\n",
    "print()\n",
    "std_dev = statistics.stdev(salaries)\n",
    "print(f\"The sample standard deviation is: {std_dev:.2f}\")\n"
   ]
  },
  {
   "cell_type": "markdown",
   "metadata": {},
   "source": [
    "## Exercise 6: Calculating more statistics\n",
    "### range"
   ]
  },
  {
   "cell_type": "code",
   "execution_count": 29,
   "metadata": {
    "ExecuteTime": {
     "end_time": "2024-08-31T19:50:30.997126Z",
     "start_time": "2024-08-31T19:50:30.992483Z"
    }
   },
   "outputs": [
    {
     "name": "stdout",
     "output_type": "stream",
     "text": [
      "The range is: (1000.0, 996000.0)\n"
     ]
    }
   ],
   "source": [
    "# Function finds the min and max value within the salaries list and creates a range.\n",
    "def find_range(salaries):\n",
    "    min_value = min(salaries)\n",
    "    max_value = max(salaries)\n",
    "    return min_value, max_value\n",
    "range_value = find_range(salaries)\n",
    "print(f\"The range is: {range_value}\")\n"
   ]
  },
  {
   "cell_type": "markdown",
   "metadata": {},
   "source": [
    "### coefficient of variation\n",
    "Make sure to use the sample standard deviation."
   ]
  },
  {
   "cell_type": "code",
   "execution_count": 30,
   "metadata": {
    "ExecuteTime": {
     "end_time": "2024-08-31T19:55:04.228291Z",
     "start_time": "2024-08-31T19:55:04.222921Z"
    }
   },
   "outputs": [
    {
     "name": "stdout",
     "output_type": "stream",
     "text": [
      "The coefficient of variation is: 45.39\n"
     ]
    }
   ],
   "source": [
    "def coefficient_of_variation(salaries):\n",
    "    n = len(salaries)\n",
    "    mean = sum(salaries) / n\n",
    "    variance = sum((x-mean)**2 for x in salaries) / (n - 1)\n",
    "    standard_deviation = math.sqrt(variance)\n",
    "# Coefficient of variation calculated by dividing the standard deviation then multiplying it by 100.\n",
    "    cv = (standard_deviation / mean) * 100 \n",
    "    return cv\n",
    "cv = coefficient_of_variation(salaries)\n",
    "print(f\"The coefficient of variation is: {cv:.2f}\")\n"
   ]
  },
  {
   "cell_type": "markdown",
   "metadata": {},
   "source": [
    "### interquartile range"
   ]
  },
  {
   "cell_type": "code",
   "execution_count": 29,
   "metadata": {
    "ExecuteTime": {
     "end_time": "2024-08-31T19:57:55.930846Z",
     "start_time": "2024-08-31T19:57:55.926556Z"
    }
   },
   "outputs": [
    {
     "name": "stdout",
     "output_type": "stream",
     "text": [
      "The IQR is: 420000.00\n",
      "The IQR using statistics module is:  421750.00\n"
     ]
    }
   ],
   "source": [
    "# find_iqr defines the interquartile function.\n",
    "def find_iqr(salaries):\n",
    "    salaries.sort()\n",
    "    n = len(salaries)\n",
    "# Finds the 1st quartile function by taking n (sample size) and splitting it into 4 quadrants.\n",
    "    Q1_index = n // 4\n",
    "    Q1 = salaries[Q1_index]\n",
    "# Finds the 3rd quartile by defining the third quadrant of the sample size.\n",
    "    Q3_index = (3 * n) // 4\n",
    "    Q3 = salaries[Q3_index]\n",
    "# Interquartile range equals the difference between Q3 and Q1.\n",
    "    IQR = Q3 - Q1\n",
    "    return IQR\n",
    "iqr = find_iqr(salaries)\n",
    "print(f\"The IQR is: {iqr:.2f}\")\n",
    "def find_iqr(salaries):\n",
    "# Define Q1 and Q3 using quantiles function in statistics module. \n",
    "    Q1 = statistics.quantiles(salaries, n=4)[0] # [0] defines the first quantile.\n",
    "    Q3 = statistics.quantiles(salaries, n=4)[2] # [3] defines the third quantile. \n",
    "    IQR = Q3 - Q1\n",
    "    return IQR\n",
    "iqr = find_iqr(salaries)\n",
    "print(f\"The IQR using statistics module is: {iqr: .2f}\")\n"
   ]
  },
  {
   "cell_type": "markdown",
   "metadata": {},
   "source": [
    "### quartile coefficent of dispersion"
   ]
  },
  {
   "cell_type": "code",
   "execution_count": 31,
   "metadata": {
    "ExecuteTime": {
     "end_time": "2024-08-31T20:00:22.054929Z",
     "start_time": "2024-08-31T20:00:22.050590Z"
    }
   },
   "outputs": [
    {
     "name": "stdout",
     "output_type": "stream",
     "text": [
      "The QCD is: 0.34\n"
     ]
    }
   ],
   "source": [
    "def quartile_coefficient_of_dispersion(salaries):\n",
    "    salaries.sort()\n",
    "    n=len(salaries)\n",
    "    Q1_index = n // 4\n",
    "    Q1 = salaries[Q1_index]\n",
    "    Q3_index = (3 * n) // 4\n",
    "    Q3 = salaries[Q3_index]\n",
    "# QCD calculate by dividing the sum of Q3 and Q1 by the difference of Q3 and Q1.\n",
    "    QCD = (Q3 - Q1) / (Q3 + Q1)\n",
    "    return QCD\n",
    "qcd = quartile_coefficient_of_dispersion(salaries)\n",
    "print(f\"The QCD is: {qcd:.2f}\")\n"
   ]
  },
  {
   "cell_type": "markdown",
   "metadata": {},
   "source": [
    "## Exercise 7: Scaling data\n",
    "### min-max scaling"
   ]
  },
  {
   "cell_type": "code",
   "execution_count": 9,
   "metadata": {
    "ExecuteTime": {
     "end_time": "2024-08-31T20:02:54.551691Z",
     "start_time": "2024-08-31T20:02:54.546715Z"
    }
   },
   "outputs": [
    {
     "name": "stdout",
     "output_type": "stream",
     "text": [
      "The scaled salaries is: [0.0, 0.01306532663316583, 0.07939698492462312, 0.0814070351758794, 0.08944723618090453, 0.10050251256281408, 0.10854271356783919, 0.18693467336683417, 0.18894472361809045, 0.19095477386934673, 0.23919597989949748, 0.2442211055276382, 0.25125628140703515, 0.2592964824120603, 0.26030150753768844, 0.27638190954773867, 0.28241206030150756, 0.2904522613065327, 0.3035175879396985, 0.31055276381909547, 0.32060301507537686, 0.3256281407035176, 0.385929648241206, 0.39195979899497485, 0.4, 0.40603015075376886, 0.4221105527638191, 0.43517587939698493, 0.4462311557788945, 0.4492462311557789, 0.45226130653266333, 0.4733668341708543, 0.47839195979899496, 0.47839195979899496, 0.47839195979899496, 0.48743718592964824, 0.49547738693467336, 0.5065326633165829, 0.5095477386934674, 0.5125628140703518, 0.5417085427135678, 0.542713567839196, 0.5487437185929648, 0.5507537688442211, 0.5527638190954773, 0.5698492462311557, 0.5778894472361809, 0.5819095477386935, 0.5849246231155779, 0.5899497487437186, 0.5919597989949749, 0.5979899497487438, 0.6050251256281407, 0.6130653266331658, 0.6150753768844222, 0.6150753768844222, 0.6201005025125628, 0.6592964824120603, 0.6623115577889447, 0.6703517587939698, 0.6864321608040201, 0.7075376884422111, 0.7095477386934673, 0.7226130653266332, 0.7326633165829146, 0.7587939698492462, 0.7608040201005025, 0.7608040201005025, 0.7869346733668342, 0.7959798994974875, 0.8060301507537688, 0.8080402010050252, 0.8130653266331658, 0.8150753768844221, 0.8170854271356784, 0.828140703517588, 0.8452261306532663, 0.8472361809045226, 0.8522613065326633, 0.8683417085427135, 0.871356783919598, 0.8733668341708543, 0.8804020100502512, 0.8984924623115578, 0.9015075376884422, 0.9025125628140703, 0.9055276381909547, 0.9115577889447236, 0.91356783919598, 0.9165829145728643, 0.9206030150753769, 0.9266331658291457, 0.9266331658291457, 0.9366834170854271, 0.9537688442211055, 0.9678391959798995, 0.9708542713567839, 0.9718592964824121, 0.9869346733668342, 1.0]\n"
     ]
    }
   ],
   "source": [
    "def min_max_scale(salaries):\n",
    "    min_value = min(salaries)\n",
    "    max_value = max(salaries)\n",
    "# Creates a loop that subtracts the minimum value from each entry, \n",
    "# then divides the difference between the max value and min value to scale data.\n",
    "    scaled_salaries = [(x - min_value) / (max_value - min_value) for x in salaries]\n",
    "    return scaled_salaries\n",
    "scaled_salaries = min_max_scale(salaries)\n",
    "print(f\"The scaled salaries is: {scaled_salaries}\")\n"
   ]
  },
  {
   "cell_type": "markdown",
   "metadata": {},
   "source": [
    "### standardizing"
   ]
  },
  {
   "cell_type": "code",
   "execution_count": 11,
   "metadata": {
    "ExecuteTime": {
     "end_time": "2024-08-31T20:05:03.206922Z",
     "start_time": "2024-08-31T20:05:03.202430Z"
    }
   },
   "outputs": [
    {
     "name": "stdout",
     "output_type": "stream",
     "text": [
      "The standardized salaries is: [-2.199512275430514, -2.150608309943509, -1.9023266390094862, -1.8948029520114855, -1.8647082040194827, -1.8233279255304788, -1.7932331775384762, -1.4998093846164489, -1.4922856976184482, -1.4847620106204475, -1.304193522668431, -1.285384305173429, -1.2590514006804265, -1.228956652688424, -1.2251948091894236, -1.165005313205418, -1.142434252211416, -1.112339504219413, -1.0634355387324086, -1.037102634239406, -0.9994841992494026, -0.9806749817544008, -0.7549643718143799, -0.7323933108203778, -0.7022985628283751, -0.6797275018343729, -0.6195380058503674, -0.5706340403633628, -0.529253761874359, -0.517968231377358, -0.5066827008803569, -0.4276839874013496, -0.40887476990634786, -0.40887476990634786, -0.40887476990634786, -0.37501817841534474, -0.34492343042334195, -0.3035431519343381, -0.2922576214373371, -0.28097209094033604, -0.17187862946932592, -0.16811678597032556, -0.14554572497632348, -0.1380220379783228, -0.1304983509803221, -0.06654701149731616, -0.03645226350531338, -0.02140488950931198, -0.010119359012310937, 0.008689858482690806, 0.016213545480691503, 0.038784606474693596, 0.06511751096769604, 0.09521225895969881, 0.10273594595769951, 0.10273594595769951, 0.12154516345270126, 0.26825705991371485, 0.2795425904107159, 0.3096373384027187, 0.36982683438672426, 0.4488255478657316, 0.4563492348637323, 0.5052532003507368, 0.5428716353407403, 0.6406795663147493, 0.6482032533127501, 0.6482032533127501, 0.7460111842867592, 0.7798677757777622, 0.8174862107677657, 0.8250098977657664, 0.8438191152607681, 0.8513428022587689, 0.8588664892567696, 0.9002467677457734, 0.9641981072287793, 0.9717217942267801, 0.9905310117217818, 1.0507205077057873, 1.0620060382027885, 1.0695297252007891, 1.0958626296937914, 1.1635758126757978, 1.1748613431727988, 1.178623186671799, 1.1899087171688003, 1.2124797781628023, 1.220003465160803, 1.2312889956578041, 1.2463363696538055, 1.2689074306478076, 1.2689074306478076, 1.3065258656378111, 1.370477205120817, 1.4231430141068218, 1.434428544603823, 1.4381903881028233, 1.4946180405878284, 1.543522006074833]\n"
     ]
    }
   ],
   "source": [
    "def standardize(salaries):\n",
    "    mean = sum(salaries) / len(salaries)\n",
    "    variance = sum((x - mean)**2 for x in salaries) / (len(salaries) - 1)\n",
    "    std_dev = math.sqrt(variance)\n",
    "# Loops the calculation to standardize the list. \n",
    "# Subtracts the mean from each entry in the list then divides by standard deviation to standardize data.\n",
    "    standardized_salaries = [(x-mean)/std_dev for x in salaries]\n",
    "    return standardized_salaries\n",
    "standardized_salaries = standardize(salaries)\n",
    "print(f\"The standardized salaries is: {standardized_salaries}\")\n"
   ]
  },
  {
   "cell_type": "markdown",
   "metadata": {},
   "source": [
    "## Exercise 8: Calculating covariance and correlation\n",
    "### covariance"
   ]
  },
  {
   "cell_type": "code",
   "execution_count": 14,
   "metadata": {
    "ExecuteTime": {
     "end_time": "2024-09-01T15:29:48.946538Z",
     "start_time": "2024-09-01T15:29:48.929257Z"
    }
   },
   "outputs": [
    {
     "name": "stdout",
     "output_type": "stream",
     "text": [
      "The covariance is: 265827.11\n",
      "The covariance using statistics module is:  265827.11\n"
     ]
    }
   ],
   "source": [
    "# Defines function and X (salaries) and Y (standardized_salaries) for calculations.\n",
    "def calculate_covariance(salaries, standardized_salaries): \n",
    "    n = len(salaries)\n",
    "    mean_x = sum(salaries) / n\n",
    "    mean_y = sum(standardized_salaries) / n\n",
    "# salaries = x, standardized_salaries = y\n",
    "# [i] = iteration in list \n",
    "# Covariance is calculated by summing the product from the mean for each element, divided by n-1 for Bessel's correction.\n",
    "    covariance = sum((salaries[i] - mean_x) * (standardized_salaries[i] - mean_y) for i in range(n)) / (n-1)\n",
    "    return covariance\n",
    "covariance = calculate_covariance(salaries, standardized_salaries)\n",
    "print(f\"The covariance is: {covariance:.2f}\")\n",
    "covariance_stats = statistics.covariance(salaries, standardized_salaries)\n",
    "print (f\"The covariance using statistics module is: {covariance_stats: .2f}\")"
   ]
  },
  {
   "cell_type": "markdown",
   "metadata": {},
   "source": [
    "### Pearson correlation coefficient ($\\rho$)"
   ]
  },
  {
   "cell_type": "code",
   "execution_count": 35,
   "metadata": {
    "ExecuteTime": {
     "end_time": "2024-08-31T20:26:44.308580Z",
     "start_time": "2024-08-31T20:26:44.300098Z"
    }
   },
   "outputs": [
    {
     "name": "stdout",
     "output_type": "stream",
     "text": [
      "The Pearson correlation coefficient is:  1.00\n",
      "The Pearson correlation using a module is:  1.00\n"
     ]
    }
   ],
   "source": [
    "# Imports Numpy to define the salaries mean within the two lists. \n",
    "import numpy as np\n",
    "# Pulls pearsonr module from the scipy.stats library to calculate Pearson correlation.\n",
    "from scipy.stats import pearsonr\n",
    "\n",
    "def pearson_correlation(salaries, standardized_salaries):\n",
    "    mean_x = np.mean(salaries)\n",
    "    mean_y = np.mean(standardized_salaries)\n",
    "    covariance = calculate_covariance(salaries, standardized_salaries)\n",
    "# Defines the standard deviations using Numpy, and defines the Delta Degrees of Freedom to apply Bessel's correction.\n",
    "    std_dev_x = np.std(salaries, ddof=1)\n",
    "    std_dev_y = np.std(standardized_salaries, ddof=1)\n",
    "# Calculates correlation by dividing the covariance by the product of the lists standard deviations.\n",
    "    correlation = covariance / (std_dev_x * std_dev_y)\n",
    "    return correlation\n",
    "correlation = pearson_correlation(salaries, standardized_salaries)\n",
    "print(f\"The Pearson correlation coefficient is: {correlation: .2f}\")\n",
    "correlation, p_value = pearsonr(salaries, standardized_salaries)\n",
    "print(f\"The Pearson correlation using a module is: {correlation: .2f}\")"
   ]
  },
  {
   "cell_type": "markdown",
   "metadata": {},
   "source": [
    "<hr>\n",
    "<div style=\"overflow: hidden; margin-bottom: 10px;\">\n",
    "    <div style=\"float: left;\">\n",
    "        <a href=\"./python_101.ipynb\">\n",
    "            <button>Python 101</button>\n",
    "        </a>\n",
    "    </div>\n",
    "    <div style=\"float: right;\">\n",
    "        <a href=\"../../solutions/ch_01/solutions.ipynb\">\n",
    "            <button>Solutions</button>\n",
    "        </a>\n",
    "        <a href=\"../ch_02/1-pandas_data_structures.ipynb\">\n",
    "            <button>Chapter 2 &#8594;</button>\n",
    "        </a>\n",
    "    </div>\n",
    "</div>\n",
    "<hr>"
   ]
  }
 ],
 "metadata": {
  "kernelspec": {
   "display_name": "Python 3 (ipykernel)",
   "language": "python",
   "name": "python3"
  },
  "language_info": {
   "codemirror_mode": {
    "name": "ipython",
    "version": 3
   },
   "file_extension": ".py",
   "mimetype": "text/x-python",
   "name": "python",
   "nbconvert_exporter": "python",
   "pygments_lexer": "ipython3",
   "version": "3.11.5"
  }
 },
 "nbformat": 4,
 "nbformat_minor": 4
}
