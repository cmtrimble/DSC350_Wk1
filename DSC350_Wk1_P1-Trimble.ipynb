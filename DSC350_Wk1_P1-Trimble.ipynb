{
 "cells": [
  {
   "cell_type": "code",
   "id": "4beb1ccb-9a40-4010-9151-1090ed720605",
   "metadata": {
    "ExecuteTime": {
     "end_time": "2024-09-01T19:15:58.235897Z",
     "start_time": "2024-09-01T19:15:52.216592Z"
    }
   },
   "source": [
    "# Title: <DSC350 Week 1 Exercise> \n",
    "# Author: <Caleb Trimble>\n",
    "# Date: <01 September 2024>\n",
    "# Description: <Executes various functions from calculating basic algebra to concatenation>\n",
    "# \"print\" directs the program to display the information within the parentheses\n",
    "print(\"Hello World! I wonder why that is always the default coding text to start with\")\n",
    "print()\n",
    "\n",
    "# First we create the discrete inputs for the numbers we want to add.\n",
    "# In this case we are able to use any number due to using \"float\", this includes whole numbers or decimals.\n",
    "add = float(input(\"Please enter your first number to add: \"))\n",
    "add1 = float(input(\"Please enter your second number to add: \"))\n",
    "# Once we have inputted the numbers we want, the program will add the two together using the below string,\n",
    "# and will display the sum for the user.\n",
    "sum = add + add1\n",
    "print(\"Your sum is\", sum)\n",
    "print() # This line is used to break the different sections of the program.\n",
    "\n",
    "sub = float(input(\"Please enter your first number to subtract: \"))\n",
    "sub1 = float(input(\"Please enter your second number to subtract: \"))\n",
    "diff = sub - sub1\n",
    "print(\"Your difference is\", diff)\n",
    "print()\n",
    "\n",
    "int = float(input(\"Please enter your first number to multiply: \"))\n",
    "int1 = float(input(\"Please enter your second number to multiply: \"))\n",
    "product = int * int1\n",
    "print(\"Your product is\", product)\n",
    "print()\n",
    "\n",
    "div = float(input(\"Please enter your first number to divide: \"))\n",
    "div1 = float(input(\"Please enter your second number to divide: \"))\n",
    "quot = div / div1\n",
    "print(\"Your quotient is\", quot)\n",
    "print()\n",
    "\n",
    "# Concatenation is the combination of multiple strings into one string for display. The \"+\" symbol is used to do this.\n",
    "str1 = \"Data Science\"\n",
    "str2 = \" is fun!\"\n",
    "result = str1 + \"\" + str2\n",
    "print(result)\n",
    "print()\n",
    "\n",
    "my_list = [\"Name\", \"State\", \"City\", \"County\"]\n",
    "my_list.append(\"Country\") # .append is used to append to a list\n",
    "print(my_list)\n",
    "print()\n",
    "\n",
    "my_tuple = (\"GenX\", \"Millenial\", \"GenZ\", \"GenA\")\n",
    "print(my_tuple)\n"
   ],
   "outputs": [
    {
     "name": "stdout",
     "output_type": "stream",
     "text": [
      "Hello World! I wonder why that is always the default coding text to start with\n",
      "\n"
     ]
    },
    {
     "ename": "ValueError",
     "evalue": "could not convert string to float: ''",
     "output_type": "error",
     "traceback": [
      "\u001B[1;31m---------------------------------------------------------------------------\u001B[0m",
      "\u001B[1;31mValueError\u001B[0m                                Traceback (most recent call last)",
      "Cell \u001B[1;32mIn[2], line 11\u001B[0m\n\u001B[0;32m      7\u001B[0m \u001B[38;5;28mprint\u001B[39m()\n\u001B[0;32m      9\u001B[0m \u001B[38;5;66;03m# First we create the discrete inputs for the numbers we want to add.\u001B[39;00m\n\u001B[0;32m     10\u001B[0m \u001B[38;5;66;03m# In this case we are able to use any number due to using \"float\", this includes whole numbers or decimals.\u001B[39;00m\n\u001B[1;32m---> 11\u001B[0m add \u001B[38;5;241m=\u001B[39m \u001B[38;5;28mfloat\u001B[39m(\u001B[38;5;28minput\u001B[39m(\u001B[38;5;124m\"\u001B[39m\u001B[38;5;124mPlease enter your first number to add: \u001B[39m\u001B[38;5;124m\"\u001B[39m))\n\u001B[0;32m     12\u001B[0m add1 \u001B[38;5;241m=\u001B[39m \u001B[38;5;28mfloat\u001B[39m(\u001B[38;5;28minput\u001B[39m(\u001B[38;5;124m\"\u001B[39m\u001B[38;5;124mPlease enter your second number to add: \u001B[39m\u001B[38;5;124m\"\u001B[39m))\n\u001B[0;32m     13\u001B[0m \u001B[38;5;66;03m# Once we have inputted the numbers we want, the program will add the two together using the below string,\u001B[39;00m\n\u001B[0;32m     14\u001B[0m \u001B[38;5;66;03m# and will display the sum for the user.\u001B[39;00m\n",
      "\u001B[1;31mValueError\u001B[0m: could not convert string to float: ''"
     ]
    }
   ],
   "execution_count": 2
  },
  {
   "cell_type": "code",
   "execution_count": null,
   "id": "9371bfcc-095f-409d-a412-614642398d91",
   "metadata": {},
   "outputs": [],
   "source": []
  }
 ],
 "metadata": {
  "kernelspec": {
   "display_name": "Python 3 (ipykernel)",
   "language": "python",
   "name": "python3"
  },
  "language_info": {
   "codemirror_mode": {
    "name": "ipython",
    "version": 3
   },
   "file_extension": ".py",
   "mimetype": "text/x-python",
   "name": "python",
   "nbconvert_exporter": "python",
   "pygments_lexer": "ipython3",
   "version": "3.12.4"
  }
 },
 "nbformat": 4,
 "nbformat_minor": 5
}
